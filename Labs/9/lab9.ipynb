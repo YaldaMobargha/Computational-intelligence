{
 "cells": [
  {
   "cell_type": "markdown",
   "metadata": {},
   "source": [
    "Copyright **`(c)`** 2023 Giovanni Squillero `<giovanni.squillero@polito.it>`  \n",
    "[`https://github.com/squillero/computational-intelligence`](https://github.com/squillero/computational-intelligence)  \n",
    "Free for personal or classroom use; see [`LICENSE.md`](https://github.com/squillero/computational-intelligence/blob/master/LICENSE.md) for details.  "
   ]
  },
  {
   "cell_type": "markdown",
   "metadata": {},
   "source": [
    "# LAB9\n",
    "\n",
    "Write a local-search algorithm (eg. an EA) able to solve the *Problem* instances 1, 2, 5, and 10 on a 1000-loci genomes, using a minimum number of fitness calls. That's all.\n",
    "\n",
    "### Deadlines:\n",
    "\n",
    "* Submission: Sunday, December 3 ([CET](https://www.timeanddate.com/time/zones/cet))\n",
    "* Reviews: Sunday, December 10 ([CET](https://www.timeanddate.com/time/zones/cet))\n",
    "\n",
    "Notes:\n",
    "\n",
    "* Reviews will be assigned  on Monday, December 4\n",
    "* You need to commit in order to be selected as a reviewer (ie. better to commit an empty work than not to commit)"
   ]
  },
  {
   "cell_type": "code",
   "execution_count": 600,
   "metadata": {},
   "outputs": [],
   "source": [
    "from random import choices,randint, random\n",
    "from collections import namedtuple\n",
    "import logging\n",
    "\n",
    "import lab9_lib"
   ]
  },
  {
   "cell_type": "code",
   "execution_count": 601,
   "metadata": {},
   "outputs": [],
   "source": [
    "NUM_LOCI = 1000s\n",
    "POPULATION_SIZE = 50\n",
    "OFFSPRING_SIZE = 20\n",
    "INSTANCES = 2\n",
    "\n",
    "NUM_GENERATIONS = 100"
   ]
  },
  {
   "cell_type": "code",
   "execution_count": 602,
   "metadata": {},
   "outputs": [
    {
     "name": "stdout",
     "output_type": "stream",
     "text": [
      "0\n"
     ]
    }
   ],
   "source": [
    "fitness = lab9_lib.make_problem(INSTANCES)\n",
    "for n in range(POPULATION_SIZE):\n",
    "    ind = choices([0, 1], k=NUM_LOCI)\n",
    "    # print(f\"{''.join(str(g) for g in ind)}: {fitness(ind):.2%}\")\n",
    "\n",
    "print(fitness.calls)"
   ]
  },
  {
   "cell_type": "markdown",
   "metadata": {},
   "source": [
    "Initialize population"
   ]
  },
  {
   "cell_type": "code",
   "execution_count": 603,
   "metadata": {},
   "outputs": [],
   "source": [
    "class Individual:\n",
    "    def __init__(self, genome, fitness):\n",
    "        self.genome = genome\n",
    "        self.fitness = fitness\n",
    "\n",
    "def initialize_population(POPULATION_SIZE, NUM_LOCI):\n",
    "    population = []\n",
    "\n",
    "    for _ in range(POPULATION_SIZE):\n",
    "        genome = tuple(choices([0, 1], k=NUM_LOCI))\n",
    "        Fitness = fitness(genome)\n",
    "        individual = Individual(genome=genome, fitness=Fitness)\n",
    "        population.append(individual)\n",
    "\n",
    "    return population\n"
   ]
  },
  {
   "cell_type": "markdown",
   "metadata": {},
   "source": [
    "Cross over and mutation functions"
   ]
  },
  {
   "cell_type": "code",
   "execution_count": 604,
   "metadata": {},
   "outputs": [],
   "source": [
    "def single_point_crossover(genome1, genome2):\n",
    "    point = randint(0, len(genome1))\n",
    "    return list(genome1[:point]) + list(genome2[point:])\n",
    "    # return genome1[:point] + genome2[point:], genome2[:point] + genome1[point:]\n",
    "\n",
    "\n",
    "def multiple_point_crossover(genome1, genome2, num_points):\n",
    "    points = [randint(0, len(genome1)) for _ in range(num_points)]\n",
    "    points.sort()\n",
    "\n",
    "    offspring = []\n",
    "    last_point = 0\n",
    "\n",
    "    for point in points:\n",
    "        offspring += genome1[last_point:point]\n",
    "        genome1, genome2 = genome2, genome1  # Swap the parents\n",
    "        last_point = point\n",
    "    offspring += genome1[last_point:]\n",
    "    return offspring\n",
    "\n",
    "\n",
    "def mutate(genome):\n",
    "    point = randint(0, NUM_LOCI - 1)\n",
    "    return genome[:point] + (1 - genome[point],) + genome[point + 1 :]\n",
    "\n",
    "def tournament(population, size=2):\n",
    "    selected = choices(population, k=size)\n",
    "    return max(selected, key=lambda j:j.fitness)"
   ]
  },
  {
   "cell_type": "code",
   "execution_count": 605,
   "metadata": {},
   "outputs": [],
   "source": [
    "def ss_GA(population, offspring, size):\n",
    "    population += offspring\n",
    "    population = sorted(population, key=lambda i: i.fitness, reverse=True)[:size]\n",
    "\n",
    "    return population"
   ]
  },
  {
   "cell_type": "markdown",
   "metadata": {},
   "source": [
    "#algorithm based on the professor's repository"
   ]
  },
  {
   "cell_type": "code",
   "execution_count": 606,
   "metadata": {},
   "outputs": [
    {
     "ename": "TypeError",
     "evalue": "can only concatenate list (not \"tuple\") to list",
     "output_type": "error",
     "traceback": [
      "\u001b[1;31m---------------------------------------------------------------------------\u001b[0m",
      "\u001b[1;31mTypeError\u001b[0m                                 Traceback (most recent call last)",
      "\u001b[1;32mc:\\Users\\mobar\\Documents\\GitHub\\Computational-intelligence\\Labs\\9\\lab9.ipynb Cell 12\u001b[0m line \u001b[0;36m1\n\u001b[0;32m     <a href='vscode-notebook-cell:/c%3A/Users/mobar/Documents/GitHub/Computational-intelligence/Labs/9/lab9.ipynb#X33sZmlsZQ%3D%3D?line=10'>11</a>\u001b[0m \u001b[39mif\u001b[39;00m random() \u001b[39m<\u001b[39m \u001b[39m0.3\u001b[39m:\n\u001b[0;32m     <a href='vscode-notebook-cell:/c%3A/Users/mobar/Documents/GitHub/Computational-intelligence/Labs/9/lab9.ipynb#X33sZmlsZQ%3D%3D?line=11'>12</a>\u001b[0m     p \u001b[39m=\u001b[39m tournament(population)\n\u001b[1;32m---> <a href='vscode-notebook-cell:/c%3A/Users/mobar/Documents/GitHub/Computational-intelligence/Labs/9/lab9.ipynb#X33sZmlsZQ%3D%3D?line=12'>13</a>\u001b[0m     o \u001b[39m=\u001b[39m mutate(p\u001b[39m.\u001b[39;49mgenome)\n\u001b[0;32m     <a href='vscode-notebook-cell:/c%3A/Users/mobar/Documents/GitHub/Computational-intelligence/Labs/9/lab9.ipynb#X33sZmlsZQ%3D%3D?line=13'>14</a>\u001b[0m \u001b[39melse\u001b[39;00m:\n\u001b[0;32m     <a href='vscode-notebook-cell:/c%3A/Users/mobar/Documents/GitHub/Computational-intelligence/Labs/9/lab9.ipynb#X33sZmlsZQ%3D%3D?line=14'>15</a>\u001b[0m     p1 \u001b[39m=\u001b[39m tournament(population)\n",
      "\u001b[1;32mc:\\Users\\mobar\\Documents\\GitHub\\Computational-intelligence\\Labs\\9\\lab9.ipynb Cell 12\u001b[0m line \u001b[0;36m2\n\u001b[0;32m     <a href='vscode-notebook-cell:/c%3A/Users/mobar/Documents/GitHub/Computational-intelligence/Labs/9/lab9.ipynb#X33sZmlsZQ%3D%3D?line=21'>22</a>\u001b[0m \u001b[39mdef\u001b[39;00m \u001b[39mmutate\u001b[39m(genome):\n\u001b[0;32m     <a href='vscode-notebook-cell:/c%3A/Users/mobar/Documents/GitHub/Computational-intelligence/Labs/9/lab9.ipynb#X33sZmlsZQ%3D%3D?line=22'>23</a>\u001b[0m     point \u001b[39m=\u001b[39m randint(\u001b[39m0\u001b[39m, NUM_LOCI \u001b[39m-\u001b[39m \u001b[39m1\u001b[39m)\n\u001b[1;32m---> <a href='vscode-notebook-cell:/c%3A/Users/mobar/Documents/GitHub/Computational-intelligence/Labs/9/lab9.ipynb#X33sZmlsZQ%3D%3D?line=23'>24</a>\u001b[0m     \u001b[39mreturn\u001b[39;00m genome[:point] \u001b[39m+\u001b[39;49m (\u001b[39m1\u001b[39;49m \u001b[39m-\u001b[39;49m genome[point],) \u001b[39m+\u001b[39m genome[point \u001b[39m+\u001b[39m \u001b[39m1\u001b[39m :]\n",
      "\u001b[1;31mTypeError\u001b[0m: can only concatenate list (not \"tuple\") to list"
     ]
    }
   ],
   "source": [
    "\n",
    "selection = ss_GA\n",
    "best_fitness = 0\n",
    "counter = 0\n",
    "\n",
    "for g in range(NUM_GENERATIONS):\n",
    "    offspring = list()\n",
    "    \n",
    "    currentfitness = 0\n",
    "\n",
    "    for i in range(OFFSPRING_SIZE):\n",
    "        if random() < 0.3:\n",
    "            p = tournament(population)\n",
    "            o = mutate(p.genome)\n",
    "        else:\n",
    "            p1 = tournament(population)\n",
    "            p2 = tournament(population)\n",
    "            o = single_point_crossover(p1.genome, p2.genome)\n",
    "        f = fitness(o)\n",
    "\n",
    "        if f > currentfitness: \n",
    "            currentfitness = f\n",
    "        offspring.append(Individual(o, f))\n",
    "    population = selection(population, offspring, POPULATION_SIZE)\n",
    "    \n",
    "    if currentfitness <= best_fitness:\n",
    "        counter += 1\n",
    "        \n",
    "        if counter >= 100:\n",
    "            print(\"break at generation n.\", g, \"fitness: \", best_fitness)\n",
    "            break\n",
    "        \n",
    "    elif currentfitness > best_fitness:\n",
    "        counter = 0\n",
    "\n",
    "        best_fitness = currentfitness\n",
    "        if best_fitness == 1:\n",
    "            print(\"break at generation n.\", g, \"fitness: \", best_fitness)\n",
    "            break\n",
    "    \n",
    "    print(\"Generation\",g ,\"counter:\", counter, \"best_fitness:\", best_fitness, \"difference:\",best_fitness-currentfitness)\n",
    "\n",
    "population += offspring\n",
    "population = sorted(population, key=lambda i: i.fitness, reverse=True)[:POPULATION_SIZE]\n",
    "print(population[0])\n",
    "print(fitness.calls)\n"
   ]
  }
 ],
 "metadata": {
  "kernelspec": {
   "display_name": "ci-fLJ3OwGs-py3.12",
   "language": "python",
   "name": "python3"
  },
  "language_info": {
   "codemirror_mode": {
    "name": "ipython",
    "version": 3
   },
   "file_extension": ".py",
   "mimetype": "text/x-python",
   "name": "python",
   "nbconvert_exporter": "python",
   "pygments_lexer": "ipython3",
   "version": "3.12.0"
  }
 },
 "nbformat": 4,
 "nbformat_minor": 2
}
