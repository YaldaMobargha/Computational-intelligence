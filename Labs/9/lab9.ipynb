{
 "cells": [
  {
   "cell_type": "markdown",
   "metadata": {},
   "source": [
    "Copyright **`(c)`** 2023 Giovanni Squillero `<giovanni.squillero@polito.it>`  \n",
    "[`https://github.com/squillero/computational-intelligence`](https://github.com/squillero/computational-intelligence)  \n",
    "Free for personal or classroom use; see [`LICENSE.md`](https://github.com/squillero/computational-intelligence/blob/master/LICENSE.md) for details.  "
   ]
  },
  {
   "cell_type": "markdown",
   "metadata": {},
   "source": [
    "# LAB9\n",
    "\n",
    "Write a local-search algorithm (eg. an EA) able to solve the *Problem* instances 1, 2, 5, and 10 on a 1000-loci genomes, using a minimum number of fitness calls. That's all.\n",
    "\n",
    "### Deadlines:\n",
    "\n",
    "* Submission: Sunday, December 3 ([CET](https://www.timeanddate.com/time/zones/cet))\n",
    "* Reviews: Sunday, December 10 ([CET](https://www.timeanddate.com/time/zones/cet))\n",
    "\n",
    "Notes:\n",
    "\n",
    "* Reviews will be assigned  on Monday, December 4\n",
    "* You need to commit in order to be selected as a reviewer (ie. better to commit an empty work than not to commit)"
   ]
  },
  {
   "cell_type": "code",
   "execution_count": 464,
   "metadata": {},
   "outputs": [],
   "source": [
    "from random import choices,randint, random\n",
    "from collections import namedtuple\n",
    "import logging\n",
    "\n",
    "import lab9_lib"
   ]
  },
  {
   "cell_type": "code",
   "execution_count": 465,
   "metadata": {},
   "outputs": [],
   "source": [
    "NUM_LOCI = 1000\n",
    "POPULATION_SIZE = 50\n",
    "OFFSPRING_SIZE = 20\n",
    "INSTANCES = 10\n",
    "\n",
    "NUM_GENERATIONS = 100"
   ]
  },
  {
   "cell_type": "code",
   "execution_count": 466,
   "metadata": {},
   "outputs": [
    {
     "name": "stdout",
     "output_type": "stream",
     "text": [
      "0\n"
     ]
    }
   ],
   "source": [
    "fitness = lab9_lib.make_problem(INSTANCES)\n",
    "for n in range(POPULATION_SIZE):\n",
    "    ind = choices([0, 1], k=NUM_LOCI)\n",
    "    # print(f\"{''.join(str(g) for g in ind)}: {fitness(ind):.2%}\" if NUM_LOCI<=10 else f\"ind {n}: {fitness(ind):.2%}\")\n",
    "\n",
    "print(fitness.calls)"
   ]
  },
  {
   "cell_type": "markdown",
   "metadata": {},
   "source": [
    "Initialize population"
   ]
  },
  {
   "cell_type": "code",
   "execution_count": 467,
   "metadata": {},
   "outputs": [],
   "source": [
    "class Individual:\n",
    "    def __init__(self, genome, fitness):\n",
    "        self.genome = genome\n",
    "        self.fitness = fitness\n",
    "\n",
    "def initialize_population(POPULATION_SIZE, NUM_LOCI):\n",
    "    population = []\n",
    "\n",
    "    for _ in range(POPULATION_SIZE):\n",
    "        genome = tuple(choices([0, 1], k=NUM_LOCI))\n",
    "        Fitness = fitness(genome)\n",
    "        individual = Individual(genome=genome, fitness=Fitness)\n",
    "        population.append(individual)\n",
    "\n",
    "    return population\n"
   ]
  },
  {
   "cell_type": "markdown",
   "metadata": {},
   "source": [
    "Cross over and mutation functions"
   ]
  },
  {
   "cell_type": "code",
   "execution_count": 468,
   "metadata": {},
   "outputs": [],
   "source": [
    "def single_point_crossover(genome1, genome2):\n",
    "    point = randint(0, len(genome1))\n",
    "    return genome1[:point] + genome2[point:]\n",
    "    # return genome1[:point] + genome2[point:], genome2[:point] + genome1[point:]\n",
    "\n",
    "\n",
    "def multiple_point_crossover(genome1, genome2, num_points):\n",
    "    points = [randint(0, len(genome1)) for _ in range(num_points)]\n",
    "    points.sort()\n",
    "\n",
    "    offspring = []\n",
    "    last_point = 0\n",
    "\n",
    "    for point in points:\n",
    "        offspring += genome1[last_point:point]\n",
    "        genome1, genome2 = genome2, genome1  # Swap the parents\n",
    "        last_point = point\n",
    "    offspring += genome1[last_point:]\n",
    "    return offspring\n",
    "\n",
    "\n",
    "# def mutate(ind: Individual) -> Individual:\n",
    "#     num = randint(0, NUM_LOCI - 1)\n",
    "#     ind.genome[num] = not ind.genome[num]\n",
    "#     return ind\n",
    "\n",
    "def mutate(genome):\n",
    "    point = randint(0, NUM_LOCI - 1)\n",
    "    return genome[:point] + (1 - genome[point],) + genome[point + 1 :]\n",
    "\n",
    "def tournament(population, size=2):\n",
    "    selected = choices(population, k=size)\n",
    "    return max(selected, key=lambda j:j.fitness)"
   ]
  },
  {
   "cell_type": "code",
   "execution_count": 469,
   "metadata": {},
   "outputs": [],
   "source": [
    "# generations = 0\n",
    "# population = initialize_population(POPULATION_SIZE, NUM_LOCI)\n",
    "# while population[0].fitness < 1:\n",
    "#     generations += 1\n",
    "#     offspring = list()\n",
    "#     for o in range(OFFSPRING_SIZE):\n",
    "#         p1 = tournament(population)\n",
    "#         mutated_genome = None\n",
    "#         if random() < 0.2:\n",
    "#             mutated_genome = mutate(p1.genome)\n",
    "#         else:\n",
    "#             p2 = tournament(population)\n",
    "#             crossovered_genome = single_point_crossover(p1.genome, p2.genome)\n",
    "            \n",
    "#         offspring.append(Individual(mutated_genome, fitness(mutated_genome)))\n",
    "#     population.extend(offspring)\n",
    "#     population = sorted(population, key=lambda i: i.fitness, reverse=True)[:POPULATION_SIZE]\n",
    "# logging.info(f\"ga: Probelm solved in {generations:,} generations\")\n"
   ]
  },
  {
   "cell_type": "code",
   "execution_count": 470,
   "metadata": {},
   "outputs": [],
   "source": [
    "def ss_GA(population, offspring, size):\n",
    "    \"\"\"\n",
    "    steady-state GA: from x parents we obtain y children and from x+y individuals we take only x ones\n",
    "    \"\"\"\n",
    "    \n",
    "    population += offspring\n",
    "    population = sorted(population, key=lambda i: i.fitness, reverse=True)[:size]\n",
    "\n",
    "    return population"
   ]
  },
  {
   "cell_type": "markdown",
   "metadata": {},
   "source": [
    "#algorithm based on the professor's repository"
   ]
  },
  {
   "cell_type": "code",
   "execution_count": 471,
   "metadata": {},
   "outputs": [
    {
     "name": "stdout",
     "output_type": "stream",
     "text": [
      "Generation 0 counter: 0 best_fitness: 0.06790001357900001 difference: 0.0\n",
      "Generation 1 counter: 1 best_fitness: 0.06790001357900001 difference: 0.0008999021100000032\n",
      "Generation 2 counter: 0 best_fitness: 0.06800011246900001 difference: 0.0\n",
      "Generation 3 counter: 0 best_fitness: 0.13801111469 difference: 0.0\n",
      "Generation 4 counter: 1 best_fitness: 0.13801111469 difference: 0.070111002221\n",
      "Generation 5 counter: 2 best_fitness: 0.13801111469 difference: 0.07101100312099999\n",
      "Generation 6 counter: 3 best_fitness: 0.13801111469 difference: 0.07012110312099999\n",
      "Generation 7 counter: 4 best_fitness: 0.13801111469 difference: 0.07001100212099999\n",
      "Generation 8 counter: 5 best_fitness: 0.13801111469 difference: 0.07001100312099999\n",
      "Generation 9 counter: 6 best_fitness: 0.13801111469 difference: 9.990099999995783e-06\n",
      "Generation 10 counter: 7 best_fitness: 0.13801111469 difference: 0.07001100112099999\n",
      "Generation 11 counter: 8 best_fitness: 0.13801111469 difference: 0.07101100312099999\n",
      "Generation 12 counter: 9 best_fitness: 0.13801111469 difference: 0.07001110222099999\n",
      "Generation 13 counter: 10 best_fitness: 0.13801111469 difference: 0.070111102321\n",
      "Generation 14 counter: 11 best_fitness: 0.13801111469 difference: 0.07001100222099998\n",
      "Generation 15 counter: 12 best_fitness: 0.13801111469 difference: 0.0\n",
      "Generation 16 counter: 13 best_fitness: 0.13801111469 difference: 0.07001110222099999\n",
      "Generation 17 counter: 14 best_fitness: 0.13801111469 difference: 0.07001100112099999\n",
      "Generation 18 counter: 15 best_fitness: 0.13801111469 difference: 9.990099999995783e-06\n",
      "Generation 19 counter: 16 best_fitness: 0.13801111469 difference: 9.988999999988035e-06\n",
      "Generation 20 counter: 17 best_fitness: 0.13801111469 difference: 0.070011002231\n",
      "Generation 21 counter: 18 best_fitness: 0.13801111469 difference: 9.990099999995783e-06\n",
      "Generation 22 counter: 19 best_fitness: 0.13801111469 difference: 9.968999999998562e-06\n",
      "Generation 23 counter: 20 best_fitness: 0.13801111469 difference: 0.06901100222099998\n",
      "Generation 24 counter: 21 best_fitness: 0.13801111469 difference: 0.07001000112099999\n",
      "Generation 25 counter: 22 best_fitness: 0.13801111469 difference: 0.07001110222099999\n",
      "Generation 26 counter: 23 best_fitness: 0.13801111469 difference: 0.070010991121\n",
      "Generation 27 counter: 24 best_fitness: 0.13801111469 difference: 9.989999999987509e-06\n",
      "Generation 28 counter: 25 best_fitness: 0.13801111469 difference: 9.990099999995783e-06\n",
      "Generation 29 counter: 26 best_fitness: 0.13801111469 difference: 9.988999999988035e-06\n",
      "Generation 30 counter: 27 best_fitness: 0.13801111469 difference: 0.07001100322099998\n",
      "Generation 31 counter: 28 best_fitness: 0.13801111469 difference: 0.07101000321099998\n",
      "Generation 32 counter: 29 best_fitness: 0.13801111469 difference: 0.07101000312099999\n",
      "Generation 33 counter: 30 best_fitness: 0.13801111469 difference: 0.070011002231\n",
      "Generation 34 counter: 31 best_fitness: 0.13801111469 difference: 1.0979999999993773e-05\n",
      "Generation 35 counter: 32 best_fitness: 0.13801111469 difference: 0.07001110322099999\n",
      "Generation 36 counter: 33 best_fitness: 0.13801111469 difference: 9.968999999998562e-06\n",
      "Generation 37 counter: 34 best_fitness: 0.13801111469 difference: 9.979999999992772e-06\n",
      "Generation 38 counter: 35 best_fitness: 0.13801111469 difference: 0.07001000222099998\n",
      "Generation 39 counter: 36 best_fitness: 0.13801111469 difference: 0.07101100312099999\n",
      "Generation 40 counter: 37 best_fitness: 0.13801111469 difference: 0.071011000221\n"
     ]
    },
    {
     "name": "stdout",
     "output_type": "stream",
     "text": [
      "Generation 41 counter: 38 best_fitness: 0.13801111469 difference: 9.969999999998036e-06\n",
      "Generation 42 counter: 39 best_fitness: 0.13801111469 difference: 9.980100000001046e-06\n",
      "Generation 43 counter: 40 best_fitness: 0.13801111469 difference: 9.978999999993299e-06\n",
      "Generation 44 counter: 41 best_fitness: 0.13801111469 difference: 0.070111102321\n",
      "Generation 45 counter: 42 best_fitness: 0.13801111469 difference: 0.07001100222099998\n",
      "Generation 46 counter: 43 best_fitness: 0.13801111469 difference: 1.0968899999991288e-05\n",
      "Generation 47 counter: 44 best_fitness: 0.13801111469 difference: 0.07101100222099999\n",
      "Generation 48 counter: 45 best_fitness: 0.13801111469 difference: 0.07001000222099998\n",
      "Generation 49 counter: 46 best_fitness: 0.13801111469 difference: 0.07001100222199999\n",
      "Generation 50 counter: 47 best_fitness: 0.13801111469 difference: 0.070011002211\n",
      "Generation 51 counter: 48 best_fitness: 0.13801111469 difference: 0.07001100222\n",
      "Generation 52 counter: 49 best_fitness: 0.13801111469 difference: 0.07001099222099999\n",
      "Generation 53 counter: 50 best_fitness: 0.13801111469 difference: 9.978999999993299e-06\n",
      "Generation 54 counter: 51 best_fitness: 0.13801111469 difference: 0.07101100322099999\n",
      "Generation 55 counter: 52 best_fitness: 0.13801111469 difference: 0.07001000222099998\n",
      "Generation 56 counter: 53 best_fitness: 0.13801111469 difference: 0.071111003121\n",
      "Generation 57 counter: 54 best_fitness: 0.13801111469 difference: 0.071011002321\n",
      "Generation 58 counter: 55 best_fitness: 0.13801111469 difference: 0.07101100222099999\n",
      "Generation 59 counter: 56 best_fitness: 0.13801111469 difference: 9.979999999992772e-06\n",
      "Generation 60 counter: 57 best_fitness: 0.13801111469 difference: 0.07001100322099998\n",
      "Generation 61 counter: 58 best_fitness: 0.13801111469 difference: 0.071010003221\n",
      "Generation 62 counter: 59 best_fitness: 0.13801111469 difference: 0.07001100222099998\n",
      "Generation 63 counter: 60 best_fitness: 0.13801111469 difference: 0.07001110222099999\n",
      "Generation 64 counter: 61 best_fitness: 0.13801111469 difference: 9.999999999982245e-06\n",
      "Generation 65 counter: 62 best_fitness: 0.13801111469 difference: 0.07001000222099998\n",
      "Generation 66 counter: 63 best_fitness: 0.13801111469 difference: 0.07001100222099998\n",
      "Generation 67 counter: 64 best_fitness: 0.13801111469 difference: 0.07001100112099999\n",
      "Generation 68 counter: 65 best_fitness: 0.13801111469 difference: 9.978999999993299e-06\n",
      "Generation 69 counter: 66 best_fitness: 0.13801111469 difference: 0.070011002211\n",
      "Generation 70 counter: 67 best_fitness: 0.13801111469 difference: 9.990099999995783e-06\n",
      "Generation 71 counter: 68 best_fitness: 0.13801111469 difference: 1.0978999999994299e-05\n",
      "Generation 72 counter: 69 best_fitness: 0.13801111469 difference: 9.988999999988035e-06\n",
      "Generation 73 counter: 70 best_fitness: 0.13801111469 difference: 0.07101100322099999\n",
      "Generation 74 counter: 71 best_fitness: 0.13801111469 difference: 9.979999999992772e-06\n",
      "Generation 75 counter: 72 best_fitness: 0.13801111469 difference: 9.990099999995783e-06\n",
      "Generation 76 counter: 73 best_fitness: 0.13801111469 difference: 9.988999999988035e-06\n",
      "Generation 77 counter: 74 best_fitness: 0.13801111469 difference: 0.07101100222099999\n",
      "Generation 78 counter: 75 best_fitness: 0.13801111469 difference: 0.070011101221\n",
      "Generation 79 counter: 76 best_fitness: 0.13801111469 difference: 0.07001100322099998\n",
      "Generation 80 counter: 77 best_fitness: 0.13801111469 difference: 0.07001000312099999\n",
      "Generation 81 counter: 78 best_fitness: 0.13801111469 difference: 0.07101100222099999\n",
      "Generation 82 counter: 79 best_fitness: 0.13801111469 difference: 0.07101000222099998\n",
      "Generation 83 counter: 80 best_fitness: 0.13801111469 difference: 0.07001110223099999\n",
      "Generation 84 counter: 81 best_fitness: 0.13801111469 difference: 0.07001100112099999\n",
      "Generation 85 counter: 82 best_fitness: 0.13801111469 difference: 0.07101100322099999\n",
      "Generation 86 counter: 83 best_fitness: 0.13801111469 difference: 0.070111103121\n",
      "Generation 87 counter: 84 best_fitness: 0.13801111469 difference: 9.890099999992907e-06\n",
      "Generation 88 counter: 85 best_fitness: 0.13801111469 difference: 9.990099999995783e-06\n",
      "Generation 89 counter: 86 best_fitness: 0.13801111469 difference: 0.07001100222099998\n",
      "Generation 90 counter: 87 best_fitness: 0.13801111469 difference: 0.070011002211\n",
      "Generation 91 counter: 0 best_fitness: 0.13801113569 difference: 0.0\n",
      "Generation 92 counter: 1 best_fitness: 0.13801113569 difference: 0.070010023221\n",
      "Generation 93 counter: 2 best_fitness: 0.13801113569 difference: 0.071011023221\n",
      "Generation 94 counter: 3 best_fitness: 0.13801113569 difference: 0.070011023221\n",
      "Generation 95 counter: 4 best_fitness: 0.13801113569 difference: 0.070011123221\n",
      "Generation 96 counter: 5 best_fitness: 0.13801113569 difference: 0.070011023221\n",
      "Generation 97 counter: 6 best_fitness: 0.13801113569 difference: 0.07100002412100001\n",
      "Generation 98 counter: 7 best_fitness: 0.13801113569 difference: 1.0001000000009475e-05\n",
      "Generation 99 counter: 8 best_fitness: 0.13801113569 difference: 0.070011023221\n",
      "<__main__.Individual object at 0x0000023B57A89B20>\n",
      "2000\n"
     ]
    }
   ],
   "source": [
    "\n",
    "selection = ss_GA\n",
    "best_fitness = 0\n",
    "counter = 0\n",
    "\n",
    "for g in range(NUM_GENERATIONS):\n",
    "    offspring = list()\n",
    "    currentfitness = 0\n",
    "\n",
    "    for i in range(OFFSPRING_SIZE):\n",
    "        if random() < 0.3:\n",
    "            p = tournament(population)\n",
    "            o = mutate(p.genome)\n",
    "        else:\n",
    "            p1 = tournament(population)\n",
    "            p2 = tournament(population)\n",
    "            o = single_point_crossover(p1.genome, p2.genome)\n",
    "        f = fitness(o)\n",
    "\n",
    "        if f > currentfitness: \n",
    "            currentfitness = f\n",
    "        offspring.append(Individual(o, f))\n",
    "    population = selection(population, offspring, POPULATION_SIZE)\n",
    "    \n",
    "    if currentfitness <= best_fitness:\n",
    "        counter += 1\n",
    "        \n",
    "        if counter >= 100:\n",
    "            print(\"break at generation n.\", g, \"fitness: \", best_fitness)\n",
    "            break\n",
    "        \n",
    "    elif currentfitness > best_fitness:\n",
    "        counter = 0\n",
    "\n",
    "        best_fitness = currentfitness\n",
    "        if best_fitness == 1:\n",
    "            print(\"break at generation n.\", g, \"fitness: \", best_fitness)\n",
    "            break\n",
    "    \n",
    "    print(\"Generation\",g ,\"counter:\", counter, \"best_fitness:\", best_fitness, \"difference:\",best_fitness-currentfitness)\n",
    "\n",
    "population = sorted(population, key=lambda i: i.fitness, reverse=True)[:POPULATION_SIZE]\n",
    "\n",
    "# print(fitness.calls)\n"
   ]
  },
  {
   "cell_type": "code",
   "execution_count": 472,
   "metadata": {},
   "outputs": [],
   "source": [
    "# generations = 0\n",
    "# population = initialize_population(POPULATION_SIZE, NUM_LOCI)\n",
    "# while population[0].fitness < 1:\n",
    "#     generations += 1\n",
    "#     offspring = list()\n",
    "#     for o in range(OFFSPRING_SIZE):\n",
    "#         p1 = tournament(population)\n",
    "#         mutated_genome = None\n",
    "#         if random() < 0.2:\n",
    "#             mutated_genome = mutate(p1.genome)\n",
    "#         else:\n",
    "#             p2 = tournament(population)\n",
    "#             crossovered_genome = single_point_crossover(p1.genome, p2.genome)\n",
    "            \n",
    "#         offspring.append(Individual(mutated_genome, fitness(mutated_genome)))\n",
    "#     population.extend(offspring)\n",
    "#     population = sorted(population, key=lambda i: i.fitness, reverse=True)[:POPULATION_SIZE]\n",
    "# logging.info(f\"ga: Probelm solved in {generations:,} generations\")\n"
   ]
  },
  {
   "cell_type": "code",
   "execution_count": null,
   "metadata": {},
   "outputs": [],
   "source": [
    "\n"
   ]
  },
  {
   "cell_type": "code",
   "execution_count": 473,
   "metadata": {},
   "outputs": [],
   "source": [
    "\n",
    "\n",
    "# # Example usage\n",
    "# PROBLEM_SIZE = 10\n",
    "# genome1 = [1, 2, 3, 4, 5, 6, 7, 8, 9]\n",
    "# genome2 = [11, 12, 13, 14, 15, 16, 17, 18]\n",
    "\n",
    "# num_points = 4\n",
    "# result_multiple_cut = multiple_point_crossover(genome1, genome2, num_points)\n",
    "\n",
    "# print(\"Multiple Cut Result:\", result_multiple_cut)\n"
   ]
  }
 ],
 "metadata": {
  "kernelspec": {
   "display_name": "ci-fLJ3OwGs-py3.12",
   "language": "python",
   "name": "python3"
  },
  "language_info": {
   "codemirror_mode": {
    "name": "ipython",
    "version": 3
   },
   "file_extension": ".py",
   "mimetype": "text/x-python",
   "name": "python",
   "nbconvert_exporter": "python",
   "pygments_lexer": "ipython3",
   "version": "3.12.0"
  }
 },
 "nbformat": 4,
 "nbformat_minor": 2
}
