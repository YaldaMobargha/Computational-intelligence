{
 "cells": [
  {
   "cell_type": "markdown",
   "metadata": {},
   "source": [
    "Copyright **`(c)`** 2023 Giovanni Squillero `<giovanni.squillero@polito.it>`  \n",
    "[`https://github.com/squillero/computational-intelligence`](https://github.com/squillero/computational-intelligence)  \n",
    "Free for personal or classroom use; see [`LICENSE.md`](https://github.com/squillero/computational-intelligence/blob/master/LICENSE.md) for details.  "
   ]
  },
  {
   "cell_type": "markdown",
   "metadata": {},
   "source": [
    "# LAB9\n",
    "\n",
    "Write a local-search algorithm (eg. an EA) able to solve the *Problem* instances 1, 2, 5, and 10 on a 1000-loci genomes, using a minimum number of fitness calls. That's all.\n",
    "\n",
    "### Deadlines:\n",
    "\n",
    "* Submission: Sunday, December 3 ([CET](https://www.timeanddate.com/time/zones/cet))\n",
    "* Reviews: Sunday, December 10 ([CET](https://www.timeanddate.com/time/zones/cet))\n",
    "\n",
    "Notes:\n",
    "\n",
    "* Reviews will be assigned  on Monday, December 4\n",
    "* You need to commit in order to be selected as a reviewer (ie. better to commit an empty work than not to commit)"
   ]
  },
  {
   "cell_type": "code",
   "execution_count": 196,
   "metadata": {},
   "outputs": [],
   "source": [
    "from random import choices,randint, random\n",
    "from collections import namedtuple\n",
    "import logging\n",
    "\n",
    "import lab9_lib"
   ]
  },
  {
   "cell_type": "code",
   "execution_count": 197,
   "metadata": {},
   "outputs": [],
   "source": [
    "NUM_LOCI = 1000\n",
    "POPULATION_SIZE = 50\n",
    "OFFSPRING_SIZE = 20\n",
    "INSTANCES = 1"
   ]
  },
  {
   "cell_type": "code",
   "execution_count": 198,
   "metadata": {},
   "outputs": [
    {
     "name": "stdout",
     "output_type": "stream",
     "text": [
      "0\n"
     ]
    }
   ],
   "source": [
    "fitness = lab9_lib.make_problem(INSTANCES)\n",
    "for n in range(POPULATION_SIZE):\n",
    "    ind = choices([0, 1], k=NUM_LOCI)\n",
    "    # print(f\"{''.join(str(g) for g in ind)}: {fitness(ind):.2%}\" if NUM_LOCI<=10 else f\"ind {n}: {fitness(ind):.2%}\")\n",
    "\n",
    "print(fitness.calls)"
   ]
  },
  {
   "cell_type": "markdown",
   "metadata": {},
   "source": [
    "Initialize population"
   ]
  },
  {
   "cell_type": "code",
   "execution_count": 199,
   "metadata": {},
   "outputs": [],
   "source": [
    "class Individual:\n",
    "    def __init__(self, genome, fitness):\n",
    "        self.genome = genome\n",
    "        self.fitness = fitness\n",
    "\n",
    "def initialize_population(POPULATION_SIZE, NUM_LOCI):\n",
    "    population = []\n",
    "\n",
    "    for _ in range(POPULATION_SIZE):\n",
    "        genome = tuple(random.choices([0, 1], k=NUM_LOCI))\n",
    "        Fitness = fitness(genome)\n",
    "        individual = Individual(genome=genome, fitness=Fitness)\n",
    "        population.append(individual)\n",
    "\n",
    "    return population\n"
   ]
  },
  {
   "cell_type": "markdown",
   "metadata": {},
   "source": [
    "Cross over and mutation functions"
   ]
  },
  {
   "cell_type": "code",
   "execution_count": 200,
   "metadata": {},
   "outputs": [],
   "source": [
    "def single_point_crossover(genome1, genome2):\n",
    "    point = randint(0, len(genome1))\n",
    "    return genome1[:point] + genome2[point:]\n",
    "    # return genome1[:point] + genome2[point:], genome2[:point] + genome1[point:]\n",
    "\n",
    "\n",
    "def multiple_point_crossover(genome1, genome2, num_points):\n",
    "    points = [randint(0, len(genome1)) for _ in range(num_points)]\n",
    "    points.sort()\n",
    "\n",
    "    offspring = []\n",
    "    last_point = 0\n",
    "\n",
    "    for point in points:\n",
    "        offspring += genome1[last_point:point]\n",
    "        genome1, genome2 = genome2, genome1  # Swap the parents\n",
    "        last_point = point\n",
    "    offspring += genome1[last_point:]\n",
    "    return offspring\n",
    "\n",
    "\n",
    "def mutate(ind: Individual) -> Individual:\n",
    "    num = randint(0, NUM_LOCI - 1)\n",
    "    ind.genotype[num] = not ind.genotype[num]\n",
    "    return ind\n",
    "\n",
    "def tournament(population):\n",
    "    selected = random.choices(population, k=2)\n",
    "    return max(selected, key=lambda candidate: candidate[1])"
   ]
  },
  {
   "cell_type": "code",
   "execution_count": null,
   "metadata": {},
   "outputs": [],
   "source": []
  },
  {
   "cell_type": "code",
   "execution_count": null,
   "metadata": {},
   "outputs": [],
   "source": []
  },
  {
   "cell_type": "code",
   "execution_count": 201,
   "metadata": {},
   "outputs": [],
   "source": [
    "\n",
    "\n",
    "# # Example usage\n",
    "# PROBLEM_SIZE = 10\n",
    "# genome1 = [1, 2, 3, 4, 5, 6, 7, 8, 9]\n",
    "# genome2 = [11, 12, 13, 14, 15, 16, 17, 18]\n",
    "\n",
    "# num_points = 4\n",
    "# result_multiple_cut = multiple_point_crossover(genome1, genome2, num_points)\n",
    "\n",
    "# print(\"Multiple Cut Result:\", result_multiple_cut)\n"
   ]
  }
 ],
 "metadata": {
  "kernelspec": {
   "display_name": "ci-fLJ3OwGs-py3.12",
   "language": "python",
   "name": "python3"
  },
  "language_info": {
   "codemirror_mode": {
    "name": "ipython",
    "version": 3
   },
   "file_extension": ".py",
   "mimetype": "text/x-python",
   "name": "python",
   "nbconvert_exporter": "python",
   "pygments_lexer": "ipython3",
   "version": "3.12.0"
  }
 },
 "nbformat": 4,
 "nbformat_minor": 2
}
